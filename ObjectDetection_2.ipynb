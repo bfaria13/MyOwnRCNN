{
 "cells": [
  {
   "cell_type": "markdown",
   "id": "04340332",
   "metadata": {},
   "source": [
    "### Notebook created by _Bruna Faria._\n",
    "\n",
    "###### Experience with ML/DL and exploring data. PhD student in Computational and Data Science and Engineering (Skoltech).\n",
    "\n",
    "\n",
    "This Notebook is divided into 2 parts:\n",
    "\n",
    "* Part 1 : basic neural network implementation based on dataset cifar100;\n",
    "* Part 2 : classifying sub-images using this own model.\n",
    "\n",
    "> **The main aim here is to demonstrate how to implement a neural network of your own to analyze sub-images.**"
   ]
  },
  {
   "cell_type": "markdown",
   "id": "87392714",
   "metadata": {},
   "source": [
    "# Part 1\n",
    "\n",
    "\n",
    "* Basic neural network implementation based on cifar100 dataset\n",
    "\n",
    "* cifar ref: https://www.cs.toronto.edu/~kriz/cifar.html\n",
    "\n",
    "**SuperClasses and Classes for dataset cifar100:**\n",
    "<img src=\"imgs/cifar100.png\" width=\"600\" height=\"300\">"
   ]
  },
  {
   "cell_type": "markdown",
   "id": "85777424",
   "metadata": {},
   "source": [
    "### 1) Importing essential libraries and dataset"
   ]
  },
  {
   "cell_type": "code",
   "execution_count": 1,
   "id": "3ec482ad",
   "metadata": {},
   "outputs": [],
   "source": [
    "import os\n",
    "import numpy as np\n",
    "import matplotlib.pyplot as plt\n",
    "import tensorflow as tf"
   ]
  },
  {
   "cell_type": "code",
   "execution_count": 2,
   "id": "e3a9078d",
   "metadata": {},
   "outputs": [],
   "source": [
    "(x_train, y_train), (x_test, y_test) = tf.keras.datasets.cifar100.load_data()"
   ]
  },
  {
   "cell_type": "code",
   "execution_count": 3,
   "id": "acaa7c1a",
   "metadata": {},
   "outputs": [
    {
     "name": "stdout",
     "output_type": "stream",
     "text": [
      "(50000, 32, 32, 3) (50000, 1)\n",
      "(10000, 32, 32, 3) (10000, 1)\n"
     ]
    }
   ],
   "source": [
    "print(x_train.shape, y_train.shape)\n",
    "print(x_test.shape, y_test.shape)"
   ]
  },
  {
   "cell_type": "markdown",
   "id": "95afbb27",
   "metadata": {},
   "source": [
    "### 2) Display an image as example"
   ]
  },
  {
   "cell_type": "code",
   "execution_count": 4,
   "id": "07b721cd",
   "metadata": {},
   "outputs": [],
   "source": [
    "#Getting labels for dataset\n",
    "mapping = {\n",
    "'aquatic mammals': ['beaver', 'dolphin', 'otter', 'seal', 'whale'],\n",
    "'fish': ['aquarium_fish', 'flatfish', 'ray', 'shark', 'trout'],\n",
    "'flowers': ['orchid', 'poppy', 'rose', 'sunflower', 'tulip'],\n",
    "'food containers': ['bottle', 'bowl', 'can', 'cup', 'plate'],\n",
    "'fruit and vegetables': ['apple', 'mushroom', 'orange', 'pear', 'sweet_pepper'],\n",
    "'household electrical device': ['clock', 'computer_keyboard', 'lamp', 'telephone', 'television'],\n",
    "'household furniture': ['bed', 'chair', 'couch', 'table', 'wardrobe'],\n",
    "'insects': ['bee', 'beetle', 'butterfly', 'caterpillar', 'cockroach'],\n",
    "'large carnivores': ['bear', 'leopard', 'lion', 'tiger', 'wolf'],\n",
    "'large man-made outdoor things': ['bridge', 'castle', 'house', 'road', 'skyscraper'],\n",
    "'large natural outdoor scenes': ['cloud', 'forest', 'mountain', 'plain', 'sea'],\n",
    "'large omnivores and herbivores': ['camel', 'cattle', 'chimpanzee', 'elephant', 'kangaroo'],\n",
    "'medium-sized mammals': ['fox', 'porcupine', 'possum', 'raccoon', 'skunk'],\n",
    "'non-insect invertebrates': ['crab', 'lobster', 'snail', 'spider', 'worm'],\n",
    "'people': ['baby', 'boy', 'girl', 'man', 'woman'],\n",
    "'reptiles': ['crocodile', 'dinosaur', 'lizard', 'snake', 'turtle'],\n",
    "'small mammals': ['hamster', 'mouse', 'rabbit', 'shrew', 'squirrel'],\n",
    "'trees': ['maple_tree', 'oak_tree', 'palm_tree', 'pine_tree', 'willow_tree'],\n",
    "'vehicles 1': ['bicycle', 'bus', 'motorcycle', 'pickup_truck', 'train'],\n",
    "'vehicles 2': ['lawn_mower', 'rocket', 'streetcar', 'tank', 'tractor']\n",
    "}\n",
    "\n",
    "def get_classname(ind):\n",
    "    labels = {0:'apple',1:'aquarium_fish',2:'baby',3:'bear',4:'beaver',5:'bed',\n",
    "              6:'bee',7:'beetle',8:'bicycle',9:'bottle',10:'bowl',11:'boy',\n",
    "              12:'bridge',13:'bus',14:'butterfly',15:'camel',16:'can',17:'castle',\n",
    "              18:'caterpillar',19:'cattle',20:'chair',21:'chimpanzee',22:'clock',23:'cloud',\n",
    "              24:'cockroach',25:'couch',26:'crab',27:'crocodile',28:'cup',29:'dinosaur',\n",
    "              30:'dolphin',31:'elephant',32:'flatfish',33:'forest',34:'fox',35:'girl',\n",
    "              36:'hamster',37:'house',38:'kangaroo',39:'computer_keyboard',40:'lamp',41:'lawn_mower',\n",
    "              42:'leopard',43:'lion',44:'lizard',45:'lobster',46:'man',47:'maple_tree',\n",
    "              48:'motorcycle',49:'mountain',50:'mouse',51:'mushroom',52:'oak_tree',53:'orange',\n",
    "              54:'orchid',55:'otter',56:'palm_tree',57:'pear',58:'pickup_truck',59:'pine_tree',\n",
    "              60:'plain',61:'plate',62:'poppy',63:'porcupine',64:'possum',65:'rabbit',\n",
    "              66:'raccoon',67:'ray',68:'road',69:'rocket',70:'rose',71:'sea',\n",
    "              72:'seal',73:'shark',74:'shrew',75:'skunk',76:'skyscraper',77:'snail',\n",
    "              78:'snake',79:'spider',80:'squirrel',81:'streetcar',82:'sunflower',83:'sweet_pepper',\n",
    "              84:'table',85:'tank',86:'telephone',87:'television',88:'tiger',89:'tractor',\n",
    "              90:'train',91:'trout',92:'tulip',93:'turtle',94:'wardrobe',95:'whale',\n",
    "              96:'willow_tree',97:'wolf',98:'woman',99:'worm'\n",
    "    }\n",
    "    \n",
    "    label = labels[ind]\n",
    "    \n",
    "    for key, value in mapping.items():\n",
    "        if label in value:\n",
    "            superclass = key\n",
    "    \n",
    "    return print(superclass,':', label)"
   ]
  },
  {
   "cell_type": "code",
   "execution_count": 5,
   "id": "9cd62099",
   "metadata": {},
   "outputs": [
    {
     "name": "stdout",
     "output_type": "stream",
     "text": [
      "household electrical device : telephone\n",
      "None\n"
     ]
    },
    {
     "data": {
      "image/png": "[encoded data removed]",
      "text/plain": [
       "<Figure size 432x288 with 1 Axes>"
      ]
     },
     "metadata": {
      "needs_background": "light"
     },
     "output_type": "display_data"
    }
   ],
   "source": [
    "#Displaying image and its label: superclasse and classe\n",
    "i = np.random.randint(low=0, high=3000)\n",
    "plt.imshow(x_test[i])\n",
    "print(get_classname(int(y_test[i])))"
   ]
  },
  {
   "cell_type": "code",
   "execution_count": 6,
   "id": "e604b4ea",
   "metadata": {},
   "outputs": [
    {
     "name": "stdout",
     "output_type": "stream",
     "text": [
      "large omnivores and herbivores : camel\n",
      "None\n"
     ]
    },
    {
     "data": {
      "image/png": "[encoded data removed]",
      "text/plain": [
       "<Figure size 432x288 with 1 Axes>"
      ]
     },
     "metadata": {
      "needs_background": "light"
     },
     "output_type": "display_data"
    }
   ],
   "source": [
    "i = np.random.randint(low=0, high=3000)\n",
    "plt.imshow(x_test[i])\n",
    "print(get_classname(int(y_test[i])))"
   ]
  },
  {
   "cell_type": "markdown",
   "id": "a3eb010c",
   "metadata": {},
   "source": [
    "### 3) Creating a model\n",
    "\n",
    "* Model based on reference: https://github.com/chetnakhanna16/CIFAR100_ImageRecognition/blob/master/EffiicientNetB0_CIFAR100.ipynb"
   ]
  },
  {
   "cell_type": "code",
   "execution_count": 7,
   "id": "f08b791f",
   "metadata": {},
   "outputs": [
    {
     "name": "stdout",
     "output_type": "stream",
     "text": [
      "Model: \"sequential\"\n",
      "_________________________________________________________________\n",
      "Layer (type)                 Output Shape              Param #   \n",
      "=================================================================\n",
      "efficientnetb0 (Functional)  (None, 1, 1, 1280)        4049571   \n",
      "_________________________________________________________________\n",
      "global_average_pooling2d (Gl (None, 1280)              0         \n",
      "_________________________________________________________________\n",
      "dropout (Dropout)            (None, 1280)              0         \n",
      "_________________________________________________________________\n",
      "dense (Dense)                (None, 100)               128100    \n",
      "=================================================================\n",
      "Total params: 4,177,671\n",
      "Trainable params: 4,135,648\n",
      "Non-trainable params: 42,023\n",
      "_________________________________________________________________\n"
     ]
    }
   ],
   "source": [
    "efnb0 = tf.keras.applications.efficientnet.EfficientNetB0(weights='imagenet', \n",
    "                                                          include_top=False, \n",
    "                                                          input_shape=(32,32,3), classes=100)\n",
    "\n",
    "model = tf.keras.Sequential()\n",
    "model.add(efnb0)\n",
    "model.add(tf.keras.layers.GlobalAveragePooling2D())\n",
    "model.add(tf.keras.layers.Dropout(0.5))\n",
    "model.add(tf.keras.layers.Dense(100, activation='softmax'))\n",
    "\n",
    "model.summary()"
   ]
  },
  {
   "cell_type": "code",
   "execution_count": 8,
   "id": "cb716b6a",
   "metadata": {},
   "outputs": [],
   "source": [
    "#Optimizer \n",
    "optimizer = tf.keras.optimizers.Adam(learning_rate=0.0001)\n",
    "\n",
    "#Early stopping to monitor the validation loss and avoid overfitting\n",
    "early_stop = tf.keras.callbacks.EarlyStopping(monitor='val_loss', mode='min', verbose=1, patience=10, restore_best_weights=True)\n",
    "\n",
    "#Reducing learning rate on plateau\n",
    "rlrop = tf.keras.callbacks.ReduceLROnPlateau(monitor='val_loss', mode='min', patience= 5, factor= 0.5, min_lr= 1e-6, verbose=1)"
   ]
  },
  {
   "cell_type": "code",
   "execution_count": 9,
   "id": "6c22fbab",
   "metadata": {},
   "outputs": [],
   "source": [
    "#The one own callback can be implemented instead.\n",
    "class MyThresholdCallback(tf.keras.callbacks.Callback):\n",
    "    def __init__(self, threshold):\n",
    "        super(MyThresholdCallback, self).__init__()\n",
    "        self.threshold = threshold\n",
    "\n",
    "    def on_epoch_end(self, epoch, logs=None): \n",
    "        val_acc = logs[\"val_accuracy\"]\n",
    "        if val_acc >= self.threshold:\n",
    "            self.model.stop_training = True"
   ]
  },
  {
   "cell_type": "code",
   "execution_count": 10,
   "id": "349db2b9",
   "metadata": {},
   "outputs": [],
   "source": [
    "my_callback = MyThresholdCallback(threshold=0.9)"
   ]
  },
  {
   "cell_type": "code",
   "execution_count": 11,
   "id": "7dd5ac7d",
   "metadata": {},
   "outputs": [],
   "source": [
    "model.compile(optimizer=optimizer, loss='categorical_crossentropy', metrics=['accuracy'])"
   ]
  },
  {
   "cell_type": "markdown",
   "id": "aa794268",
   "metadata": {},
   "source": [
    "### 4) Starting model training"
   ]
  },
  {
   "cell_type": "code",
   "execution_count": 12,
   "id": "c36a03e9",
   "metadata": {},
   "outputs": [],
   "source": [
    "#Applying OneHotEncoding to y\n",
    "y_train = tf.keras.utils.to_categorical(y_train)\n",
    "y_test = tf.keras.utils.to_categorical(y_test)"
   ]
  },
  {
   "cell_type": "code",
   "execution_count": 13,
   "id": "9ee47f19",
   "metadata": {},
   "outputs": [],
   "source": [
    "#Normalizing X\n",
    "x_train = x_train/255.0\n",
    "x_test = x_test/255.0"
   ]
  },
  {
   "cell_type": "markdown",
   "id": "20a4838d",
   "metadata": {},
   "source": [
    "**This next step was done using Colab!**"
   ]
  },
  {
   "cell_type": "code",
   "execution_count": null,
   "id": "ce6a2c58",
   "metadata": {},
   "outputs": [],
   "source": [
    "#Fitting model \n",
    "history = model.fit(x_train,\n",
    "                    y_train,\n",
    "                    epochs=20,\n",
    "                    batch_size=100,\n",
    "                    #validation_split=0.25,\n",
    "                    validation_data=(x_test, y_test),\n",
    "                    verbose=1,\n",
    "                    callbacks=[early_stop, rlrop]# my_callback]\n",
    "                    )"
   ]
  },
  {
   "cell_type": "code",
   "execution_count": null,
   "id": "64283db2",
   "metadata": {},
   "outputs": [],
   "source": [
    "#Visualizing the loss and accuracy against number of epochs\n",
    "plt.figure(figsize=(18,8))\n",
    "plt.suptitle('Loss and Accuracy Plots', fontsize=18)\n",
    "plt.subplot(1,2,1)\n",
    "plt.plot(history.history['loss'], label='Training Loss')\n",
    "plt.plot(history.history['val_loss'], label='Validation Loss')\n",
    "plt.legend()\n",
    "plt.xlabel('Number of epochs', fontsize=15)\n",
    "plt.ylabel('Loss', fontsize=15)\n",
    "\n",
    "plt.subplot(1,2,2)\n",
    "plt.plot(history.history['accuracy'], label='Train Accuracy')\n",
    "plt.plot(history.history['val_accuracy'], label='Validation Accuracy')\n",
    "plt.legend()\n",
    "plt.xlabel('Number of epochs', fontsize=14)\n",
    "plt.ylabel('Accuracy', fontsize=14)\n",
    "plt.show()"
   ]
  },
  {
   "cell_type": "code",
   "execution_count": null,
   "id": "3cfa0599",
   "metadata": {},
   "outputs": [],
   "source": [
    "#Evaluating model\n",
    "test_loss, test_accuracy = model.evaluate(x_test, y_test)"
   ]
  },
  {
   "cell_type": "code",
   "execution_count": null,
   "id": "b17bfe4d",
   "metadata": {},
   "outputs": [],
   "source": [
    "print(\"Test accuracy: {}\".format(test_accuracy))"
   ]
  },
  {
   "cell_type": "code",
   "execution_count": null,
   "id": "e20ead19",
   "metadata": {},
   "outputs": [],
   "source": [
    "#Saving model and weights\n",
    "model_json = model.to_json()\n",
    "with open(\"cifar100_final.json\", \"w\") as json_file:\n",
    "    json_file.write(model_json)\n",
    "    \n",
    "model.save_weights(\"cifar100_final.h5\")"
   ]
  },
  {
   "cell_type": "markdown",
   "id": "48f7b7b9",
   "metadata": {},
   "source": [
    "# Part 2\n",
    "\n",
    "* Classifying sub-images (objects) with pre-trained model based on cifar100"
   ]
  },
  {
   "cell_type": "markdown",
   "id": "fde5dc43",
   "metadata": {},
   "source": [
    "### 5) Loading model saved before"
   ]
  },
  {
   "cell_type": "code",
   "execution_count": 14,
   "id": "27871164",
   "metadata": {},
   "outputs": [
    {
     "name": "stdout",
     "output_type": "stream",
     "text": [
      "Loaded model from disk\n"
     ]
    }
   ],
   "source": [
    "# load json and create model\n",
    "json_file = open('cifar100_example.json', 'r')\n",
    "loaded_model_json = json_file.read()\n",
    "json_file.close()\n",
    "loaded_model = tf.keras.models.model_from_json(loaded_model_json)\n",
    "\n",
    "# load weights into new model\n",
    "loaded_model.load_weights(\"cifar100_example.h5\")\n",
    "print(\"Loaded model from disk\")"
   ]
  },
  {
   "cell_type": "code",
   "execution_count": 15,
   "id": "bad03d97",
   "metadata": {},
   "outputs": [
    {
     "name": "stdout",
     "output_type": "stream",
     "text": [
      "accuracy: 53.28%\n"
     ]
    }
   ],
   "source": [
    "loaded_model.compile(optimizer=optimizer, loss='categorical_crossentropy', metrics=['accuracy'])\n",
    "score = loaded_model.evaluate(x_test, y_test, verbose=0)\n",
    "print(\"%s: %.2f%%\" % (loaded_model.metrics_names[1], score[1]*100))"
   ]
  },
  {
   "cell_type": "markdown",
   "id": "65eb819e",
   "metadata": {},
   "source": [
    "### 6) Implementing a function to load input images"
   ]
  },
  {
   "cell_type": "code",
   "execution_count": 22,
   "id": "3a974316",
   "metadata": {},
   "outputs": [],
   "source": [
    "#For images from files in subs folder as jpg\n",
    "def get_input_jpg(image):\n",
    "    img_ = tf.keras.preprocessing.image.load_img(image, target_size=(32, 32))\n",
    "    img_array = tf.keras.preprocessing.image.img_to_array(img_)\n",
    "    img_array = img_array.reshape((32, 32, 3))\n",
    "    img_input = tf.keras.applications.efficientnet.preprocess_input(img_array)\n",
    "    return img_, img_input"
   ]
  },
  {
   "cell_type": "markdown",
   "id": "e9148ead",
   "metadata": {},
   "source": [
    "### 9) Example of classification"
   ]
  },
  {
   "cell_type": "code",
   "execution_count": 23,
   "id": "51428fe8",
   "metadata": {
    "scrolled": false
   },
   "outputs": [
    {
     "name": "stdout",
     "output_type": "stream",
     "text": [
      "fruit and vegetables : mushroom\n",
      "None\n"
     ]
    },
    {
     "data": {
      "image/png": "[encoded data removed]",
      "text/plain": [
       "<Figure size 432x288 with 1 Axes>"
      ]
     },
     "metadata": {
      "needs_background": "light"
     },
     "output_type": "display_data"
    },
    {
     "name": "stdout",
     "output_type": "stream",
     "text": [
      "non-insect invertebrates : spider\n",
      "None\n"
     ]
    },
    {
     "data": {
      "image/png": "[encoded data removed]",
      "text/plain": [
       "<Figure size 432x288 with 1 Axes>"
      ]
     },
     "metadata": {
      "needs_background": "light"
     },
     "output_type": "display_data"
    },
    {
     "name": "stdout",
     "output_type": "stream",
     "text": [
      "large natural outdoor scenes : forest\n",
      "None\n"
     ]
    },
    {
     "data": {
      "image/png": "[encoded data removed]",
      "text/plain": [
       "<Figure size 432x288 with 1 Axes>"
      ]
     },
     "metadata": {
      "needs_background": "light"
     },
     "output_type": "display_data"
    },
    {
     "name": "stdout",
     "output_type": "stream",
     "text": [
      "household furniture : table\n",
      "None\n"
     ]
    },
    {
     "data": {
      "image/png": "[encoded data removed]",
      "text/plain": [
       "<Figure size 432x288 with 1 Axes>"
      ]
     },
     "metadata": {
      "needs_background": "light"
     },
     "output_type": "display_data"
    },
    {
     "name": "stdout",
     "output_type": "stream",
     "text": [
      "trees : maple_tree\n",
      "None\n"
     ]
    },
    {
     "data": {
      "image/png": "[encoded data removed]",
      "text/plain": [
       "<Figure size 432x288 with 1 Axes>"
      ]
     },
     "metadata": {
      "needs_background": "light"
     },
     "output_type": "display_data"
    },
    {
     "name": "stdout",
     "output_type": "stream",
     "text": [
      "trees : maple_tree\n",
      "None\n"
     ]
    },
    {
     "data": {
      "image/png": "[encoded data removed]",
      "text/plain": [
       "<Figure size 432x288 with 1 Axes>"
      ]
     },
     "metadata": {
      "needs_background": "light"
     },
     "output_type": "display_data"
    },
    {
     "name": "stdout",
     "output_type": "stream",
     "text": [
      "large natural outdoor scenes : forest\n",
      "None\n"
     ]
    },
    {
     "data": {
      "image/png": "[encoded data removed]",
      "text/plain": [
       "<Figure size 432x288 with 1 Axes>"
      ]
     },
     "metadata": {
      "needs_background": "light"
     },
     "output_type": "display_data"
    },
    {
     "name": "stdout",
     "output_type": "stream",
     "text": [
      "fruit and vegetables : sweet_pepper\n",
      "None\n"
     ]
    },
    {
     "data": {
      "image/png": "[encoded data removed]",
      "text/plain": [
       "<Figure size 432x288 with 1 Axes>"
      ]
     },
     "metadata": {
      "needs_background": "light"
     },
     "output_type": "display_data"
    },
    {
     "name": "stdout",
     "output_type": "stream",
     "text": [
      "household furniture : table\n",
      "None\n"
     ]
    },
    {
     "data": {
      "image/png": "[encoded data removed]",
      "text/plain": [
       "<Figure size 432x288 with 1 Axes>"
      ]
     },
     "metadata": {
      "needs_background": "light"
     },
     "output_type": "display_data"
    },
    {
     "name": "stdout",
     "output_type": "stream",
     "text": [
      "household furniture : table\n",
      "None\n"
     ]
    },
    {
     "data": {
      "image/png": "[encoded data removed]",
      "text/plain": [
       "<Figure size 432x288 with 1 Axes>"
      ]
     },
     "metadata": {
      "needs_background": "light"
     },
     "output_type": "display_data"
    }
   ],
   "source": [
    "#Choosing some random sub-images to classify\n",
    "\n",
    "random_imgs = np.random.choice(os.listdir('selsearch'), 10) #10 images as example\n",
    "for i in random_imgs:\n",
    "    img, img_input = get_input_jpg('selsearch/'+i)\n",
    "    yhat = loaded_model.predict(np.array([img_input]))\n",
    "    print(get_classname(np.argmax(yhat)))\n",
    "    plt.imshow(img)\n",
    "    plt.show()"
   ]
  },
  {
   "cell_type": "markdown",
   "id": "99a09442",
   "metadata": {},
   "source": [
    "> **Clearly, the model trained needs to be improved as well as the input images.**"
   ]
  }
 ],
 "metadata": {
  "kernelspec": {
   "display_name": "Python 3",
   "language": "python",
   "name": "python3"
  },
  "language_info": {
   "codemirror_mode": {
    "name": "ipython",
    "version": 3
   },
   "file_extension": ".py",
   "mimetype": "text/x-python",
   "name": "python",
   "nbconvert_exporter": "python",
   "pygments_lexer": "ipython3",
   "version": "3.8.3"
  }
 },
 "nbformat": 4,
 "nbformat_minor": 5
}
